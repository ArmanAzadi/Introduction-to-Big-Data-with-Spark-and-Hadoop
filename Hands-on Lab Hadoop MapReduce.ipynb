{
 "cells": [
  {
   "attachments": {},
   "cell_type": "markdown",
   "metadata": {},
   "source": [
    "# Hands-on lab on Hadoop Map-Reduce\n"
   ]
  },
  {
   "attachments": {},
   "cell_type": "markdown",
   "metadata": {},
   "source": [
    "In this lab you will launch a single node Hadoop cluster using Docker and run MapReduce jobs.\n",
    "\n",
    "Skills Network Labs (SN Labs) is a virtual lab environment used in this course.  Upon clicking the \"Open Tool\" button below, your Username and Email will be passed to SN Labs and will be used in strict accordance with IBM Skills Network Privacy policy, such as for communicating important information to enhance your learning experience. "
   ]
  },
  {
   "attachments": {},
   "cell_type": "markdown",
   "metadata": {},
   "source": [
    "## Objectives\n",
    "\n",
    "Run a single-node Hadoop instance.\n",
    "\n",
    "Perform a word count using Hadoop Map Reduce."
   ]
  },
  {
   "attachments": {},
   "cell_type": "markdown",
   "metadata": {},
   "source": [
    "## Set up Single-Node Hadoop\n",
    "\n",
    "1- Start a new terminal"
   ]
  },
  {
   "cell_type": "code",
   "execution_count": 53,
   "metadata": {},
   "outputs": [],
   "source": [
    "curl https://dlcdn.apache.org/hadoop/common/hadoop-3.2.3/hadoop-3.2.3.tar.gz --output hadoop-3.2.3.tar.gz"
   ]
  },
  {
   "cell_type": "code",
   "execution_count": null,
   "metadata": {},
   "outputs": [],
   "source": [
    "tar -xvf hadoop-3.2.3.tar.gz"
   ]
  },
  {
   "cell_type": "code",
   "execution_count": null,
   "metadata": {},
   "outputs": [],
   "source": [
    "cd hadoop-3.2.3"
   ]
  },
  {
   "cell_type": "code",
   "execution_count": null,
   "metadata": {},
   "outputs": [],
   "source": [
    "bin/hadoop"
   ]
  },
  {
   "cell_type": "code",
   "execution_count": null,
   "metadata": {},
   "outputs": [],
   "source": [
    "curl https://cf-courses-data.s3.us.cloud-object-storage.appdomain.cloud/IBM-BD0225EN-SkillsNetwork/labs/data/data.txt --output data.txt"
   ]
  },
  {
   "cell_type": "code",
   "execution_count": null,
   "metadata": {},
   "outputs": [],
   "source": [
    "bin/hadoop jar share/hadoop/mapreduce/hadoop-mapreduce-examples-3.2.3.jar wordcount data.txt output"
   ]
  },
  {
   "cell_type": "code",
   "execution_count": null,
   "metadata": {},
   "outputs": [],
   "source": [
    "ls output"
   ]
  },
  {
   "cell_type": "code",
   "execution_count": null,
   "metadata": {},
   "outputs": [],
   "source": [
    "cat  output/part-r-00000"
   ]
  },
  {
   "cell_type": "code",
   "execution_count": null,
   "metadata": {},
   "outputs": [],
   "source": [
    "Result:\n",
    "BigData 2\n",
    "Hadoop  1\n",
    "IBM     1\n",
    "MapReduce       2"
   ]
  },
  {
   "attachments": {},
   "cell_type": "markdown",
   "metadata": {},
   "source": [
    "* Deployed Hadoop using Docker\n",
    "\n",
    "* Copied data into HDFS\n",
    "\n",
    "* Used MapReduce to do a word count\n",
    "\n",
    "\n",
    "Tweet and share your achievement!\n",
    "\n",
    "Author(s)\n",
    "Lavanya T S\n",
    "\n",
    "Contributor(s)\n",
    "\n",
    "Aije Egwaikhide\n",
    "\n"
   ]
  },
  {
   "attachments": {},
   "cell_type": "markdown",
   "metadata": {},
   "source": [
    "| Date (YYYY-MM-DD) | Version | Changed By        | Change Description                                      |\n",
    "| ----------------- | ------- | ----------------- | ------------------------------------------------------- |\n",
    "| 05-04-2022        | 1.3     | Sourabh           | Updated Hadoop version                                  |\n",
    "| 18-01-2022        | 1.2     | Lavanya           | Changed to single node hadoop                           |\n",
    "| 16-07-2021        | 1.1     | Aije\t          | Modified multiple areas                                 |\n",
    "| 11-07-2021        | 1.0     | Lavanya           | Created lab instructions for Word count using MapReduce |"
   ]
  },
  {
   "cell_type": "markdown",
   "metadata": {},
   "source": []
  }
 ],
 "metadata": {
  "kernelspec": {
   "display_name": "Python 3",
   "language": "python",
   "name": "python3"
  },
  "language_info": {
   "codemirror_mode": {
    "name": "ipython",
    "version": 3
   },
   "file_extension": ".py",
   "mimetype": "text/x-python",
   "name": "python",
   "nbconvert_exporter": "python",
   "pygments_lexer": "ipython3",
   "version": "3.10.7 (tags/v3.10.7:6cc6b13, Sep  5 2022, 14:08:36) [MSC v.1933 64 bit (AMD64)]"
  },
  "vscode": {
   "interpreter": {
    "hash": "4e5bf7a12a1c1d29824a5bfee3d91605f1adb3dad993a140f8524bd0b15b44f5"
   }
  }
 },
 "nbformat": 4,
 "nbformat_minor": 4
}
