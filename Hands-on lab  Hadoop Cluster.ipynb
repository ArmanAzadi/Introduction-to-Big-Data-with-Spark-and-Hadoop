{
 "cells": [
  {
   "attachments": {},
   "cell_type": "markdown",
   "metadata": {},
   "source": [
    "# Set up Cluster Nodes Dockerized Hadoop\n"
   ]
  },
  {
   "attachments": {},
   "cell_type": "markdown",
   "metadata": {},
   "source": [
    "In this lab you will launch a single node Hadoop cluster using Docker and run MapReduce jobs.\n",
    "\n",
    "Skills Network Labs (SN Labs) is a virtual lab environment used in this course.  Upon clicking the \"Open Tool\" button below, your Username and Email will be passed to SN Labs and will be used in strict accordance with IBM Skills Network Privacy policy, such as for communicating important information to enhance your learning experience. "
   ]
  },
  {
   "attachments": {},
   "cell_type": "markdown",
   "metadata": {},
   "source": [
    "## What is a Hadoop Cluster?\n",
    "\n",
    "A Hadoop cluster is a collection of computers, known as nodes, that are networked together to perform parallel computations on big data sets. The Name node is the master node of the Hadoop Distributed File System (HDFS). It maintains the meta data of the files in the RAM for quick access. An actual Hadoop Cluster setup involves extensives resources which are not within the scope of this lab. In this lab, you will use dockerized hadoop to create a Hadoop Cluster which will have:\n",
    "\n",
    "1- Namenode\n",
    "\n",
    "2- Datanode\n",
    "\n",
    "3- Node Manager\n",
    "\n",
    "4- Resource manager\n",
    "\n",
    "5- Hadoop history server"
   ]
  },
  {
   "attachments": {},
   "cell_type": "markdown",
   "metadata": {},
   "source": [
    "## Objectives\n",
    "\n",
    "Run a dockerized Cluster Hadoop instance\n",
    "\n",
    "Create a file in the HDFS and view it on the GUI"
   ]
  },
  {
   "attachments": {},
   "cell_type": "markdown",
   "metadata": {},
   "source": [
    "## Set up Cluster Nodes Dockerized Hadoop\n",
    "\n",
    "1- Start a new terminal"
   ]
  },
  {
   "cell_type": "code",
   "execution_count": 53,
   "metadata": {},
   "outputs": [],
   "source": [
    "git clone https://github.com/ibm-developer-skills-network/ooxwv-docker_hadoop.git"
   ]
  },
  {
   "cell_type": "code",
   "execution_count": null,
   "metadata": {},
   "outputs": [],
   "source": [
    "cd ooxwv-docker_hadoop"
   ]
  },
  {
   "cell_type": "code",
   "execution_count": null,
   "metadata": {},
   "outputs": [],
   "source": [
    "docker-compose up -d"
   ]
  },
  {
   "cell_type": "code",
   "execution_count": null,
   "metadata": {},
   "outputs": [],
   "source": [
    "docker exec -it namenode /bin/bash"
   ]
  },
  {
   "attachments": {},
   "cell_type": "markdown",
   "metadata": {},
   "source": [
    "## Explore the hadoop environment\n",
    "\n",
    "As you have learnt in the videos and reading thus far in the course, a Hadoop environment is configured by editing a set of configuration files:\n",
    "\n",
    "  * hadoop-env.sh Serves as a master file to configure YARN, HDFS, MapReduce, and Hadoop-related project settings.\n",
    "\n",
    "  * core-site.xml Defines HDFS and Hadoop core properties\n",
    "\n",
    "  * hdfs-site.xml Governs the location for storing node metadata, fsimage file and log file.\n",
    "\n",
    "  * mapred-site-xml Lists the parameters for MapReduce configuration.\n",
    "\n",
    "  * yarn-site.xml Defines settings relevant to YARN. It contains configurations for the Node Manager, Resource Manager, Containers, and Application Master.\n",
    "\n",
    "For the docker image, these xml files have been configured already. You can see these in the directory /opt/hadoop-3.2.1/etc/hadoop/ by running"
   ]
  },
  {
   "cell_type": "code",
   "execution_count": null,
   "metadata": {},
   "outputs": [],
   "source": [
    "ls /opt/hadoop-3.2.1/etc/hadoop/*.xml"
   ]
  },
  {
   "attachments": {},
   "cell_type": "markdown",
   "metadata": {},
   "source": [
    "## Create a file in the HDFS\n",
    "\n",
    "  * In the HDFS, create a directory structure named user/root/input.\n",
    "\n",
    "  * Copy all the hadoop configuration xml files into the input directory.\n",
    "\n",
    "  * Create a data.txt file in the current directory.\n",
    "\n",
    "  * Copy the data.txt file into /user/root.\n",
    "\n",
    "  * Check if the file has been copied into the HDFS by viewing its content."
   ]
  },
  {
   "cell_type": "code",
   "execution_count": null,
   "metadata": {},
   "outputs": [],
   "source": [
    "hdfs dfs -mkdir -p /user/root/input"
   ]
  },
  {
   "cell_type": "code",
   "execution_count": null,
   "metadata": {},
   "outputs": [],
   "source": [
    "hdfs dfs -put $HADOOP_HOME/etc/hadoop/*.xml /user/root/input"
   ]
  },
  {
   "cell_type": "code",
   "execution_count": null,
   "metadata": {},
   "outputs": [],
   "source": [
    "curl https://raw.githubusercontent.com/ibm-developer-skills-network/ooxwv-docker_hadoop/master/SampleMapReduce.txt --output data.txt "
   ]
  },
  {
   "cell_type": "code",
   "execution_count": null,
   "metadata": {},
   "outputs": [],
   "source": [
    "hdfs dfs -put data.txt /user/root/"
   ]
  },
  {
   "cell_type": "code",
   "execution_count": null,
   "metadata": {},
   "outputs": [],
   "source": [
    "hdfs dfs -cat /user/root/data.txt"
   ]
  },
  {
   "attachments": {},
   "cell_type": "markdown",
   "metadata": {},
   "source": [
    "* Deployed Hadoop using Docker\n",
    "\n",
    "* Created data in HDFS and viewed it on the GUI\n",
    "\n",
    "\n",
    "Tweet and share your achievement!\n",
    "\n",
    "Author(s)\n",
    "\n",
    "Lavanya T S"
   ]
  },
  {
   "attachments": {},
   "cell_type": "markdown",
   "metadata": {},
   "source": [
    "| Date (YYYY-MM-DD) | Version | Changed By        | Change Description                                                |\n",
    "| ----------------- | ------- | ----------------- | ----------------------------------------------------------------- |\n",
    "| 18-01-2022\t    | 1.0\t  | Lavanya\t          | Created lab instructions for Hadoop Cluster                       |\n",
    "| 01-09-2022\t    | 1.1\t  | K Sundararajan\t  | Updated instructions for Launch Application as per new Theia IDE  |\n",
    "| 13-02-2023\t    | 1.2\t  | K Sundararajan\t  | Updated screenshots                                               |              "
   ]
  }
 ],
 "metadata": {
  "kernelspec": {
   "display_name": "Python 3",
   "language": "python",
   "name": "python3"
  },
  "language_info": {
   "codemirror_mode": {
    "name": "ipython",
    "version": 3
   },
   "file_extension": ".py",
   "mimetype": "text/x-python",
   "name": "python",
   "nbconvert_exporter": "python",
   "pygments_lexer": "ipython3",
   "version": "3.10.7 (tags/v3.10.7:6cc6b13, Sep  5 2022, 14:08:36) [MSC v.1933 64 bit (AMD64)]"
  },
  "vscode": {
   "interpreter": {
    "hash": "4e5bf7a12a1c1d29824a5bfee3d91605f1adb3dad993a140f8524bd0b15b44f5"
   }
  }
 },
 "nbformat": 4,
 "nbformat_minor": 4
}
